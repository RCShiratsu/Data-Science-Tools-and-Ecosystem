{
 "cells": [
  {
   "cell_type": "markdown",
   "id": "553b0588-2411-4099-9391-2175aaa22656",
   "metadata": {},
   "source": [
    "# Data Science Tools and Ecosystem"
   ]
  },
  {
   "cell_type": "markdown",
   "id": "4ef3cd6c-f635-4ecc-9dc3-64bfa0436635",
   "metadata": {},
   "source": [
    "In this notebook, Data Science Tools and Ecosystem are summarized."
   ]
  },
  {
   "cell_type": "markdown",
   "id": "c93da6d8-e760-42be-be8c-9175e3bb2c81",
   "metadata": {},
   "source": [
    "**Objectives:**\n",
    "- List popular languages for Data Science\n",
    "- Introduction to Jupyter Notebooks\n",
    "- Introduction to R and RStudio"
   ]
  },
  {
   "cell_type": "markdown",
   "id": "5cdf3d27-a519-40d5-bc7e-6549cdb10cce",
   "metadata": {},
   "source": [
    "Some of the popular languages that Data Scientists use are:\n",
    "1. Python\n",
    "2. R\n",
    "3. Julia"
   ]
  },
  {
   "cell_type": "markdown",
   "id": "2be7a146-b6a9-447f-ad33-495d1e506aaf",
   "metadata": {},
   "source": [
    "Some of the commonly used libraries used by Data Scientists include:\n",
    "1. NumPy\n",
    "2. Pandas\n",
    "3. TensorFlow"
   ]
  },
  {
   "cell_type": "markdown",
   "id": "3d3e9c17-1773-4aee-a6fe-7d48d9dd1770",
   "metadata": {},
   "source": [
    "| Data Science Tools |\n",
    "| ------------------ |\n",
    "| Git |\n",
    "| Visual Studio Code |\n",
    "| Apache NetBeans |"
   ]
  },
  {
   "cell_type": "markdown",
   "id": "6648d38f-f95f-478e-94f9-127ea92e6558",
   "metadata": {},
   "source": [
    "### Below are a few examples of evaluating arithmetic expressions in Python"
   ]
  },
  {
   "cell_type": "code",
   "execution_count": 1,
   "id": "acc0266c-e6cd-4e1b-8a6a-8c0525e0c818",
   "metadata": {
    "tags": []
   },
   "outputs": [
    {
     "data": {
      "text/plain": [
       "17"
      ]
     },
     "execution_count": 1,
     "metadata": {},
     "output_type": "execute_result"
    }
   ],
   "source": [
    "# This a simple arithmetic expression to mutiply then add integers\n",
    "(3*4)+5"
   ]
  },
  {
   "cell_type": "code",
   "execution_count": 2,
   "id": "a7753e39-337b-45f5-b974-ba046d558075",
   "metadata": {
    "tags": []
   },
   "outputs": [
    {
     "data": {
      "text/plain": [
       "3.3333333333333335"
      ]
     },
     "execution_count": 2,
     "metadata": {},
     "output_type": "execute_result"
    }
   ],
   "source": [
    "# This will convert 200 minutes to hours by diving by 60\n",
    "200/60"
   ]
  },
  {
   "cell_type": "markdown",
   "id": "41a2eb2a-2928-4b19-95ee-250d1f310bbd",
   "metadata": {},
   "source": [
    "## Author\n",
    "Rodrigo Shiratsu"
   ]
  },
  {
   "cell_type": "code",
   "execution_count": null,
   "id": "899482d6-c258-46de-af51-6b4acc13d801",
   "metadata": {},
   "outputs": [],
   "source": []
  }
 ],
 "metadata": {
  "kernelspec": {
   "display_name": "Python 3 (ipykernel)",
   "language": "python",
   "name": "python3"
  },
  "language_info": {
   "codemirror_mode": {
    "name": "ipython",
    "version": 3
   },
   "file_extension": ".py",
   "mimetype": "text/x-python",
   "name": "python",
   "nbconvert_exporter": "python",
   "pygments_lexer": "ipython3",
   "version": "3.11.4"
  }
 },
 "nbformat": 4,
 "nbformat_minor": 5
}
